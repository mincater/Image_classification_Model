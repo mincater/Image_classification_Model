{
 "cells": [
  {
   "cell_type": "code",
   "execution_count": null,
   "metadata": {
    "colab": {
     "base_uri": "https://localhost:8080/"
    },
    "collapsed": true,
    "id": "qyy5eUJHKZom",
    "outputId": "e1d4da02-baae-4fc3-ea12-35afd44f9f28"
   },
   "outputs": [],
   "source": [
    "pip install tensorflow\n"
   ]
  },
  {
   "cell_type": "code",
   "execution_count": null,
   "metadata": {
    "colab": {
     "base_uri": "https://localhost:8080/"
    },
    "id": "PMrnbSReJ7J6",
    "outputId": "638161db-5801-4066-ab48-e765c1afd78e"
   },
   "outputs": [],
   "source": [
    "pip install numpy"
   ]
  },
  {
   "cell_type": "code",
   "execution_count": null,
   "metadata": {
    "colab": {
     "base_uri": "https://localhost:8080/"
    },
    "id": "D4JkTH2FKoDd",
    "outputId": "70c6eea2-785f-4b16-c11b-c3c0f7d343ef"
   },
   "outputs": [],
   "source": [
    "pip install matplotlib\n"
   ]
  },
  {
   "cell_type": "code",
   "execution_count": null,
   "metadata": {
    "id": "xa8yS_o7KxCA"
   },
   "outputs": [],
   "source": [
    "#Importing all required libraries\n",
    "import tensorflow as tf\n",
    "from tensorflow.keras.preprocessing.image import ImageDataGenerator\n",
    "from tensorflow.keras import layers, models\n",
    "import matplotlib.pyplot as plt\n",
    "import numpy as np\n",
    "import os"
   ]
  },
  {
   "cell_type": "code",
   "execution_count": null,
   "metadata": {
    "id": "kcvvoIWRK0g2"
   },
   "outputs": [],
   "source": [
    "#Loading the Data SET\n",
    "url = 'https://storage.googleapis.com/mledu-datasets/cats_and_dogs_filtered.zip'\n",
    "zip_path = tf.keras.utils.get_file('cats_and_dogs_filtered.zip', origin=url, extract=True)\n",
    "\n"
   ]
  },
  {
   "cell_type": "code",
   "execution_count": null,
   "metadata": {
    "colab": {
     "base_uri": "https://localhost:8080/"
    },
    "id": "6jzbzxWqNgXN",
    "outputId": "a0dc0835-c35e-4890-b54f-0edec8772e20"
   },
   "outputs": [],
   "source": [
    "#Providind directory address\n",
    "base_dir = os.path.join(os.path.dirname('/content/sample_data/cats_and_dogs_filtered_extracted/'), 'cats_and_dogs_filtered')\n",
    "train_dir = os.path.join(base_dir, 'train')\n",
    "validation_dir = os.path.join(base_dir, 'validation')\n",
    "\n",
    "print(\"Train directory:\", train_dir)\n",
    "print(\"Validation directory:\", validation_dir)"
   ]
  },
  {
   "cell_type": "code",
   "execution_count": null,
   "metadata": {
    "colab": {
     "base_uri": "https://localhost:8080/"
    },
    "id": "oxwuO0KhLJQC",
    "outputId": "2551e05a-3ba8-49fe-ca92-f52eb7a33974"
   },
   "outputs": [],
   "source": [
    "#Data augmentation and preprocessing\n",
    "train_datagen = ImageDataGenerator(\n",
    "    rescale=1./255,\n",
    "    rotation_range=40,\n",
    "    width_shift_range=0.2,\n",
    "    height_shift_range=0.2,\n",
    "    shear_range=0.2,\n",
    "    zoom_range=0.2,\n",
    "    horizontal_flip=True,\n",
    "    fill_mode='nearest'\n",
    ")\n",
    "\n",
    "validation_datagen = ImageDataGenerator(rescale=1./255)\n",
    "\n",
    "train_generator = train_datagen.flow_from_directory(\n",
    "    train_dir,\n",
    "    target_size=(150, 150),\n",
    "    batch_size=32,\n",
    "    class_mode='binary'\n",
    ")\n",
    "\n",
    "validation_generator = validation_datagen.flow_from_directory(\n",
    "    validation_dir,\n",
    "    target_size=(150, 150),\n",
    "    batch_size=32,\n",
    "    class_mode='binary'\n",
    ")\n",
    "print(f\"Train samples: {train_generator.n}\")\n",
    "print(f\"Validation samples: {validation_generator.n}\")\n"
   ]
  },
  {
   "cell_type": "code",
   "execution_count": null,
   "metadata": {
    "colab": {
     "base_uri": "https://localhost:8080/",
     "height": 907
    },
    "id": "lO_K8op4Oxlu",
    "outputId": "cfd133c0-bd1c-441f-967a-5f329d5d155e"
   },
   "outputs": [],
   "source": [
    "#Augmented Images Checking\n",
    "class_names = list(train_generator.class_indices.keys())\n",
    "images, labels = next(train_generator)\n",
    "\n",
    "plt.figure(figsize=(10, 10))\n",
    "for i in range(9):\n",
    "    plt.subplot(3, 3, i+1)\n",
    "    plt.imshow(images[i])\n",
    "    plt.title(f\"Label: {class_names[int(labels[i])]}\")\n",
    "    plt.axis(\"off\")\n",
    "plt.suptitle(\"Augmented Training Samples\")\n",
    "plt.show()"
   ]
  },
  {
   "cell_type": "code",
   "execution_count": null,
   "metadata": {
    "colab": {
     "base_uri": "https://localhost:8080/",
     "height": 1000
    },
    "id": "sMURTxvVO8hw",
    "outputId": "18a8366f-1fe6-4632-da05-b5c86d368516"
   },
   "outputs": [],
   "source": [
    "#CNN Model Creation\n",
    "\n",
    "\n",
    "model = models.Sequential([\n",
    "    # Block 1\n",
    "    layers.Conv2D(32, (3, 3), activation='relu', padding='same', input_shape=(150, 150, 3)),\n",
    "    layers.BatchNormalization(),\n",
    "    layers.MaxPooling2D(2, 2),\n",
    "\n",
    "    # Block 2\n",
    "    layers.Conv2D(64, (3, 3), activation='relu', padding='same'),\n",
    "    layers.BatchNormalization(),\n",
    "    layers.MaxPooling2D(2, 2),\n",
    "\n",
    "    # Block 3\n",
    "    layers.Conv2D(128, (3, 3), activation='relu', padding='same'),\n",
    "    layers.BatchNormalization(),\n",
    "    layers.MaxPooling2D(2, 2),\n",
    "\n",
    "    # Block 4\n",
    "    layers.Conv2D(256, (3, 3), activation='relu', padding='same'),\n",
    "    layers.BatchNormalization(),\n",
    "    layers.MaxPooling2D(2, 2),\n",
    "\n",
    "    # Global average pooling instead of flatten\n",
    "    layers.GlobalAveragePooling2D(),\n",
    "\n",
    "    # Dense layers\n",
    "    layers.Dense(256, activation='relu', kernel_regularizer=tf.keras.regularizers.l2(0.001)),\n",
    "    layers.Dropout(0.5),\n",
    "    layers.Dense(1, activation='sigmoid')\n",
    "])\n",
    "\n",
    "model.compile(loss='binary_crossentropy',\n",
    "              optimizer='adam',\n",
    "              metrics=['accuracy'])\n",
    "model.summary()"
   ]
  },
  {
   "cell_type": "code",
   "execution_count": null,
   "metadata": {
    "colab": {
     "base_uri": "https://localhost:8080/"
    },
    "id": "53W6Xll2PIHr",
    "outputId": "7c74dfdd-1df8-4c0c-c02c-563daffe65cb"
   },
   "outputs": [],
   "source": [
    "#Training model\n",
    "history = model.fit(\n",
    "    train_generator,\n",
    "    steps_per_epoch=100,\n",
    "    epochs=15,\n",
    "    validation_data=validation_generator,\n",
    "    validation_steps=50\n",
    ")"
   ]
  },
  {
   "cell_type": "code",
   "execution_count": null,
   "metadata": {
    "colab": {
     "base_uri": "https://localhost:8080/",
     "height": 354
    },
    "id": "O3eSlzDAQTOt",
    "outputId": "36d2cf93-27ec-4252-fdf6-483175dffb36"
   },
   "outputs": [],
   "source": [
    "#Model Accuracy Calculation\n",
    "acc = history.history['accuracy']\n",
    "val_acc = history.history['val_accuracy']\n",
    "loss = history.history['loss']\n",
    "val_loss = history.history['val_loss']\n",
    "\n",
    "epochs_range = range(len(acc))\n",
    "\n",
    "plt.figure(figsize=(14, 5))\n",
    "plt.subplot(1, 2, 1)\n",
    "plt.plot(epochs_range, acc, label='Train Accuracy')\n",
    "plt.plot(epochs_range, val_acc, label='Val Accuracy')\n",
    "plt.title('Training and Validation Accuracy')\n",
    "plt.legend()\n",
    "\n",
    "plt.subplot(1, 2, 2)\n",
    "plt.plot(epochs_range, loss, label='Train Loss')\n",
    "plt.plot(epochs_range, val_loss, label='Val Loss')\n",
    "plt.title('Training and Validation Loss')\n",
    "plt.legend()\n",
    "\n",
    "plt.show()"
   ]
  },
  {
   "cell_type": "code",
   "execution_count": null,
   "metadata": {
    "colab": {
     "base_uri": "https://localhost:8080/"
    },
    "id": "b5rHoGVwQmdw",
    "outputId": "0d896805-d7bf-4bac-e490-9d95cff4c0a5"
   },
   "outputs": [],
   "source": [
    "#Accuracy Of the Model\n",
    "loss, accuracy = model.evaluate(validation_generator, steps=len(validation_generator))\n",
    "print(f'Validation Loss: {loss:.4f}')\n",
    "print(f'Validation Accuracy: {accuracy:.4f}')"
   ]
  },
  {
   "cell_type": "code",
   "execution_count": null,
   "metadata": {
    "colab": {
     "base_uri": "https://localhost:8080/",
     "height": 610
    },
    "id": "ead7d81a",
    "outputId": "3c6c2fd6-c7f3-49e8-9655-5cc1649d6f6b"
   },
   "outputs": [],
   "source": [
    "#Using Gradio as a interface to interact with our model\n",
    "#Here we can provide an image of cat or dog to to our model for the classification\n",
    "import gradio as gr\n",
    "import numpy as np\n",
    "from PIL import Image\n",
    "\n",
    "def predict_image(img):\n",
    "    img = img.resize((150, 150))\n",
    "    img = np.array(img) / 255.0\n",
    "    img = img.reshape(1, 150, 150, 3)\n",
    "\n",
    "    prediction = model.predict(img)\n",
    "    predicted_class = \"Cat\" if prediction < 0.5 else \"Dog\"\n",
    "    confidence = 1 - abs(prediction - 0.5)\n",
    "\n",
    "    return f\"Predicted Class: {predicted_class} (Confidence: {confidence[0][0]:.2f})\"\n",
    "\n",
    "interface = gr.Interface(\n",
    "    fn=predict_image,\n",
    "    inputs=gr.Image(type=\"pil\"),\n",
    "    outputs=\"text\",\n",
    "    title=\"Image Classifier\",\n",
    "    description=\"Upload an image to classify using the trained CNN model.\"\n",
    ")\n",
    "\n",
    "interface.launch(share=True)\n"
   ]
  },
  {
   "cell_type": "markdown",
   "metadata": {
    "id": "xk3iRK5UU36B"
   },
   "source": [
    "Hosting on web via the Huggingface"
   ]
  },
  {
   "cell_type": "code",
   "execution_count": null,
   "metadata": {
    "id": "0zrLwVZpQ7Dt"
   },
   "outputs": [],
   "source": [
    "#saving the model offline\n",
    "from keras.saving import save_model\n",
    "\n",
    "save_model(model, \"model.keras\")\n",
    "\n"
   ]
  },
  {
   "cell_type": "code",
   "execution_count": null,
   "metadata": {
    "id": "F2SaG_VLRqQD"
   },
   "outputs": [],
   "source": [
    "#creating app.py\n",
    "with open(\"app.py\", \"w\") as f:\n",
    "    f.write(\"\"\"\n",
    "import gradio as gr\n",
    "import numpy as np\n",
    "from PIL import Image\n",
    "from keras.models import load_model\n",
    "\n",
    "# Load trained Keras model\n",
    "model = load_model(\"model.keras\")\n",
    "\n",
    "# Prediction function\n",
    "def predict_image(img):\n",
    "    img = img.resize((150, 150))\n",
    "    img = np.array(img) / 255.0\n",
    "    img = img.reshape(1, 150, 150, 3)\n",
    "    prediction = model.predict(img)[0][0]\n",
    "    label = \"Cat\" if prediction < 0.5 else \"Dog\"\n",
    "    confidence = 1 - abs(prediction - 0.5)\n",
    "    return f\"{label} (Confidence: {confidence:.2f})\"\n",
    "\n",
    "# Gradio Interface\n",
    "demo = gr.Interface(fn=predict_image,\n",
    "                    inputs=gr.Image(type=\"pil\"),\n",
    "                    outputs=\"text\",\n",
    "                    title=\"Cat vs Dog Classifier\",\n",
    "                    description=\"Upload an image to classify it as Cat or Dog\")\n",
    "\n",
    "demo.launch()\n",
    "\"\"\")\n"
   ]
  },
  {
   "cell_type": "code",
   "execution_count": null,
   "metadata": {
    "id": "qrcmReoOR4Ax"
   },
   "outputs": [],
   "source": [
    "#requirements for the app.py\n",
    "with open(\"requirements.txt\", \"w\") as f:\n",
    "    f.write(\"gradio\\nkeras\\ntensorflow\\npillow\\nnumpy\")\n"
   ]
  },
  {
   "cell_type": "code",
   "execution_count": null,
   "metadata": {
    "colab": {
     "base_uri": "https://localhost:8080/",
     "height": 17,
     "referenced_widgets": [
      "dc1dea0f8eca40b09e225f6494b6640b",
      "e98a2fd4da0d4ec494442e9a346f1031",
      "018e4aa22a124939b9135a4c47540891",
      "4f953ef336814c9a90a2eacad4130e55",
      "53fd02401c4349aa95198c38e46daba5",
      "f34ff24c6dfb42a9aa5892dc771a1634",
      "3102ae33050a4c66a666e09eda98872b",
      "57f6879e99194150b338b2fbdbc0bace",
      "42fa4f6a400f40e9a0b60c08e6a132b2",
      "4152723ecf7e481b87dcf38ee0c54965",
      "07ada83592ad4565a7b9a58c10d7bdb8",
      "0d2478672b934f85bcc5ab01f90942cb",
      "a9123ab3bab74da885854d2db9ef4a98",
      "d2d9108314b04ec7b17548fc2ca49a34",
      "0f82f71c366c4026b3adc2720aaaa7de",
      "c7aed32aecb14dc195ffd404dbad6696",
      "93d014616aa54df7a0c5913c00bf7820",
      "0c8c8e7235024c149308d53f8b614fe4",
      "47d47673a4d64389af4c08b1e3c0e9ea",
      "6a04128d995e40b58e295c086971e377"
     ]
    },
    "id": "pvG4cgmJSBMk",
    "outputId": "7f9f3f8d-6c9c-466b-b654-4ccfbf512c4a"
   },
   "outputs": [],
   "source": [
    "#importing Huggingface to deploy app.py\n",
    "!pip install -q huggingface_hub\n",
    "\n",
    "from huggingface_hub import notebook_login\n",
    "notebook_login()\n"
   ]
  },
  {
   "cell_type": "code",
   "execution_count": null,
   "metadata": {
    "colab": {
     "base_uri": "https://localhost:8080/",
     "height": 347,
     "referenced_widgets": [
      "8176fc0c06ef496fa411ff08ca337006",
      "1f69e7e1f9ab43498fd84a0f89a1be45",
      "5d98814a31d34b0e9e594a505ddda473",
      "fe6536aa19144a2b82560d553d887eb5",
      "5d46ed3eb065411fa8c9c379dbc54ce7",
      "4d35c3edd98d4eb898ccb435dfc53d10",
      "6b292f4798c7419fb7aaa684f4c5c287",
      "a5edb708fe4049a3bd80e530e4e552b2",
      "6b5a1e9f1be54a378659fedc59cfd748",
      "dd4c9dd23e894e73937142adc0dedeb4",
      "85920bdd2c7a40dc9cd40f63e57a6d5a"
     ]
    },
    "id": "KKz4gaH5TEIW",
    "outputId": "94d2f701-e716-4093-e79f-df31cf53956e"
   },
   "outputs": [],
   "source": [
    "#uploading to huggingfase space\n",
    "from huggingface_hub import create_repo, upload_file\n",
    "repo_id = \"mincater/cat-vs-dog-classifier\"\n",
    "create_repo(repo_id=repo_id, repo_type=\"space\", space_sdk=\"gradio\", exist_ok=True)\n",
    "upload_file(path_or_fileobj=\"app.py\", path_in_repo=\"app.py\", repo_id=repo_id, repo_type=\"space\")\n",
    "upload_file(path_or_fileobj=\"model.keras\", path_in_repo=\"model.keras\", repo_id=repo_id, repo_type=\"space\")\n",
    "upload_file(path_or_fileobj=\"requirements.txt\", path_in_repo=\"requirements.txt\", repo_id=repo_id, repo_type=\"space\")"
   ]
  }
 ],
 "metadata": {
  "accelerator": "GPU",
  "colab": {
   "gpuType": "T4",
   "provenance": []
  },
  "kernelspec": {
   "display_name": "Python 3",
   "name": "python3"
  },
  "language_info": {
   "name": "python"
  }
 },
 "nbformat": 4,
 "nbformat_minor": 0
}
